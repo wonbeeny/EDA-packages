{
 "cells": [
  {
   "cell_type": "markdown",
   "metadata": {},
   "source": [
    "# 1. Sweetviz 란 ?  \n"
   ]
  },
  {
   "cell_type": "markdown",
   "metadata": {},
   "source": [
    "<img src=\"https://raw.githubusercontent.com/naresh192017/Naresha/master/WENN%20(1).jpg\" width=\"80%\"> <br>\n",
    "#### 오픈 소스 python library이며, 단일 코드로 EDA를 간단히 할 수 있다"
   ]
  },
  {
   "cell_type": "code",
   "execution_count": 1,
   "metadata": {},
   "outputs": [
    {
     "name": "stderr",
     "output_type": "stream",
     "text": [
      "In /home/advice/.local/lib/python3.6/site-packages/matplotlib/mpl-data/stylelib/_classic_test.mplstyle: \n",
      "The text.latex.preview rcparam was deprecated in Matplotlib 3.3 and will be removed two minor releases later.\n",
      "In /home/advice/.local/lib/python3.6/site-packages/matplotlib/mpl-data/stylelib/_classic_test.mplstyle: \n",
      "The mathtext.fallback_to_cm rcparam was deprecated in Matplotlib 3.3 and will be removed two minor releases later.\n",
      "In /home/advice/.local/lib/python3.6/site-packages/matplotlib/mpl-data/stylelib/_classic_test.mplstyle: Support for setting the 'mathtext.fallback_to_cm' rcParam is deprecated since 3.3 and will be removed two minor releases later; use 'mathtext.fallback : 'cm' instead.\n",
      "In /home/advice/.local/lib/python3.6/site-packages/matplotlib/mpl-data/stylelib/_classic_test.mplstyle: \n",
      "The validate_bool_maybe_none function was deprecated in Matplotlib 3.3 and will be removed two minor releases later.\n",
      "In /home/advice/.local/lib/python3.6/site-packages/matplotlib/mpl-data/stylelib/_classic_test.mplstyle: \n",
      "The savefig.jpeg_quality rcparam was deprecated in Matplotlib 3.3 and will be removed two minor releases later.\n",
      "In /home/advice/.local/lib/python3.6/site-packages/matplotlib/mpl-data/stylelib/_classic_test.mplstyle: \n",
      "The keymap.all_axes rcparam was deprecated in Matplotlib 3.3 and will be removed two minor releases later.\n",
      "In /home/advice/.local/lib/python3.6/site-packages/matplotlib/mpl-data/stylelib/_classic_test.mplstyle: \n",
      "The animation.avconv_path rcparam was deprecated in Matplotlib 3.3 and will be removed two minor releases later.\n",
      "In /home/advice/.local/lib/python3.6/site-packages/matplotlib/mpl-data/stylelib/_classic_test.mplstyle: \n",
      "The animation.avconv_args rcparam was deprecated in Matplotlib 3.3 and will be removed two minor releases later.\n"
     ]
    }
   ],
   "source": [
    "import sweetviz as sv\n",
    "import pandas as pd\n",
    "import numpy as np\n",
    "from sklearn.model_selection import train_test_split"
   ]
  },
  {
   "cell_type": "markdown",
   "metadata": {},
   "source": [
    "# 2. What is EDA ?\n",
    "- 데이터를 다양한 각도에서 관찰하고 분석하는 것이다 \n",
    "- 데이터를 분석하기 전에 그래프나 통계적인 방법으로 자료를 직관적으로 바라보는 과정이다."
   ]
  },
  {
   "cell_type": "markdown",
   "metadata": {},
   "source": [
    "# 3. 데이터 설명"
   ]
  },
  {
   "cell_type": "code",
   "execution_count": 2,
   "metadata": {},
   "outputs": [],
   "source": [
    "drive = pd.read_csv(\"./data/drive1.csv\")"
   ]
  },
  {
   "cell_type": "code",
   "execution_count": 3,
   "metadata": {},
   "outputs": [
    {
     "data": {
      "text/html": [
       "<div>\n",
       "<style scoped>\n",
       "    .dataframe tbody tr th:only-of-type {\n",
       "        vertical-align: middle;\n",
       "    }\n",
       "\n",
       "    .dataframe tbody tr th {\n",
       "        vertical-align: top;\n",
       "    }\n",
       "\n",
       "    .dataframe thead th {\n",
       "        text-align: right;\n",
       "    }\n",
       "</style>\n",
       "<table border=\"1\" class=\"dataframe\">\n",
       "  <thead>\n",
       "    <tr style=\"text-align: right;\">\n",
       "      <th></th>\n",
       "      <th>ID</th>\n",
       "      <th>target</th>\n",
       "      <th>Gender</th>\n",
       "      <th>EngineHP</th>\n",
       "      <th>credit_history</th>\n",
       "      <th>Years_Experience</th>\n",
       "      <th>annual_claims</th>\n",
       "      <th>Marital_Status</th>\n",
       "      <th>Vehical_type</th>\n",
       "      <th>Miles_driven_annually</th>\n",
       "      <th>size_of_family</th>\n",
       "      <th>Age_bucket</th>\n",
       "      <th>EngineHP_bucket</th>\n",
       "      <th>Years_Experience_bucket</th>\n",
       "      <th>Miles_driven_annually_bucket</th>\n",
       "      <th>credit_history_bucket</th>\n",
       "      <th>State</th>\n",
       "    </tr>\n",
       "  </thead>\n",
       "  <tbody>\n",
       "    <tr>\n",
       "      <th>0</th>\n",
       "      <td>1</td>\n",
       "      <td>1</td>\n",
       "      <td>F</td>\n",
       "      <td>522</td>\n",
       "      <td>656</td>\n",
       "      <td>1</td>\n",
       "      <td>0</td>\n",
       "      <td>Married</td>\n",
       "      <td>Car</td>\n",
       "      <td>14749.0</td>\n",
       "      <td>5</td>\n",
       "      <td>&lt;18</td>\n",
       "      <td>&gt;350</td>\n",
       "      <td>&lt;3</td>\n",
       "      <td>&lt;15k</td>\n",
       "      <td>Fair</td>\n",
       "      <td>IL</td>\n",
       "    </tr>\n",
       "    <tr>\n",
       "      <th>1</th>\n",
       "      <td>2</td>\n",
       "      <td>1</td>\n",
       "      <td>F</td>\n",
       "      <td>691</td>\n",
       "      <td>704</td>\n",
       "      <td>16</td>\n",
       "      <td>0</td>\n",
       "      <td>Married</td>\n",
       "      <td>Car</td>\n",
       "      <td>15389.0</td>\n",
       "      <td>6</td>\n",
       "      <td>28-34</td>\n",
       "      <td>&gt;350</td>\n",
       "      <td>15-30</td>\n",
       "      <td>15k-25k</td>\n",
       "      <td>Good</td>\n",
       "      <td>NJ</td>\n",
       "    </tr>\n",
       "    <tr>\n",
       "      <th>2</th>\n",
       "      <td>3</td>\n",
       "      <td>1</td>\n",
       "      <td>M</td>\n",
       "      <td>133</td>\n",
       "      <td>691</td>\n",
       "      <td>15</td>\n",
       "      <td>0</td>\n",
       "      <td>Married</td>\n",
       "      <td>Van</td>\n",
       "      <td>9956.0</td>\n",
       "      <td>3</td>\n",
       "      <td>&gt;40</td>\n",
       "      <td>90-160</td>\n",
       "      <td>15-30</td>\n",
       "      <td>&lt;15k</td>\n",
       "      <td>Good</td>\n",
       "      <td>CT</td>\n",
       "    </tr>\n",
       "    <tr>\n",
       "      <th>3</th>\n",
       "      <td>4</td>\n",
       "      <td>1</td>\n",
       "      <td>M</td>\n",
       "      <td>146</td>\n",
       "      <td>720</td>\n",
       "      <td>9</td>\n",
       "      <td>0</td>\n",
       "      <td>Married</td>\n",
       "      <td>Van</td>\n",
       "      <td>77323.0</td>\n",
       "      <td>3</td>\n",
       "      <td>18-27</td>\n",
       "      <td>90-160</td>\n",
       "      <td>9-14'</td>\n",
       "      <td>&gt;25k</td>\n",
       "      <td>Good</td>\n",
       "      <td>CT</td>\n",
       "    </tr>\n",
       "    <tr>\n",
       "      <th>4</th>\n",
       "      <td>5</td>\n",
       "      <td>1</td>\n",
       "      <td>M</td>\n",
       "      <td>128</td>\n",
       "      <td>771</td>\n",
       "      <td>33</td>\n",
       "      <td>1</td>\n",
       "      <td>Married</td>\n",
       "      <td>Van</td>\n",
       "      <td>14183.0</td>\n",
       "      <td>4</td>\n",
       "      <td>&gt;40</td>\n",
       "      <td>90-160</td>\n",
       "      <td>&gt;30</td>\n",
       "      <td>&lt;15k</td>\n",
       "      <td>Very Good</td>\n",
       "      <td>WY</td>\n",
       "    </tr>\n",
       "  </tbody>\n",
       "</table>\n",
       "</div>"
      ],
      "text/plain": [
       "   ID  target Gender  EngineHP  credit_history  Years_Experience  \\\n",
       "0   1       1      F       522             656                 1   \n",
       "1   2       1      F       691             704                16   \n",
       "2   3       1      M       133             691                15   \n",
       "3   4       1      M       146             720                 9   \n",
       "4   5       1      M       128             771                33   \n",
       "\n",
       "   annual_claims Marital_Status Vehical_type  Miles_driven_annually  \\\n",
       "0              0        Married          Car                14749.0   \n",
       "1              0        Married          Car                15389.0   \n",
       "2              0        Married          Van                 9956.0   \n",
       "3              0        Married          Van                77323.0   \n",
       "4              1        Married          Van                14183.0   \n",
       "\n",
       "   size_of_family Age_bucket EngineHP_bucket Years_Experience_bucket  \\\n",
       "0               5        <18            >350                      <3   \n",
       "1               6      28-34            >350                   15-30   \n",
       "2               3        >40          90-160                   15-30   \n",
       "3               3      18-27          90-160                   9-14'   \n",
       "4               4        >40          90-160                     >30   \n",
       "\n",
       "  Miles_driven_annually_bucket credit_history_bucket State  \n",
       "0                         <15k                  Fair    IL  \n",
       "1                      15k-25k                  Good    NJ  \n",
       "2                         <15k                  Good    CT  \n",
       "3                         >25k                  Good    CT  \n",
       "4                         <15k             Very Good    WY  "
      ]
     },
     "execution_count": 3,
     "metadata": {},
     "output_type": "execute_result"
    }
   ],
   "source": [
    "drive.head()"
   ]
  },
  {
   "cell_type": "code",
   "execution_count": 4,
   "metadata": {},
   "outputs": [],
   "source": [
    "train, test = train_test_split(drive, test_size = 0.3)"
   ]
  },
  {
   "cell_type": "markdown",
   "metadata": {},
   "source": [
    "# 4. sweetviz code 설명 "
   ]
  },
  {
   "cell_type": "markdown",
   "metadata": {},
   "source": [
    "## 4.1 analyze() <br>"
   ]
  },
  {
   "cell_type": "code",
   "execution_count": 20,
   "metadata": {},
   "outputs": [],
   "source": [
    "sv.analyze?"
   ]
  },
  {
   "cell_type": "code",
   "execution_count": 23,
   "metadata": {},
   "outputs": [
    {
     "name": "stderr",
     "output_type": "stream",
     "text": [
      ":FEATURES DONE:                    |█████████████████████| [100%]   00:08  -> (00:00 left)\n",
      ":PAIRWISE DONE:                    |█████████████████████| [100%]   00:03  -> (00:00 left)\n"
     ]
    },
    {
     "name": "stdout",
     "output_type": "stream",
     "text": [
      "Creating Associations graph... DONE!\n",
      "Report single.html was generated! NOTEBOOK/COLAB USERS: no browser will pop up, the report is saved in your notebook/colab files.\n"
     ]
    }
   ],
   "source": [
    "single = sv.analyze([drive, \"Drive\"],\"target\")\n",
    "single.show_html(\"single.html\")"
   ]
  },
  {
   "cell_type": "code",
   "execution_count": 18,
   "metadata": {},
   "outputs": [
    {
     "name": "stdout",
     "output_type": "stream",
     "text": [
      "Report single.html was generated! NOTEBOOK/COLAB USERS: no browser will pop up, the report is saved in your notebook/colab files.\n"
     ]
    }
   ],
   "source": [
    "single.show_html(\"single.html\")"
   ]
  },
  {
   "cell_type": "markdown",
   "metadata": {},
   "source": [
    "## 4.2 compare()  \n",
    "  - train, test의 형태를 비교할 수 있다\n"
   ]
  },
  {
   "cell_type": "code",
   "execution_count": 7,
   "metadata": {},
   "outputs": [
    {
     "name": "stderr",
     "output_type": "stream",
     "text": [
      ":FEATURES DONE:                    |█████████████████████| [100%]   00:05  -> (00:00 left)\n",
      ":PAIRWISE DONE:                    |█████████████████████| [100%]   00:03  -> (00:00 left)\n"
     ]
    },
    {
     "name": "stdout",
     "output_type": "stream",
     "text": [
      "Creating Associations graph... DONE!\n"
     ]
    }
   ],
   "source": [
    "compare = sv.compare([train,\"train\"], [test,\"test\"], \"target\")\n",
    "compare.show_html(\"compare.html\")"
   ]
  },
  {
   "cell_type": "markdown",
   "metadata": {},
   "source": [
    "## 4.3 compare_intra\n",
    "- dataframe 내 특정변수를 기준으로 target과 columns의 분포를 비교 할 수 있다."
   ]
  },
  {
   "cell_type": "code",
   "execution_count": 9,
   "metadata": {},
   "outputs": [
    {
     "name": "stderr",
     "output_type": "stream",
     "text": [
      ":FEATURES DONE:                    |█████████████████████| [100%]   00:06  -> (00:00 left)\n",
      ":PAIRWISE DONE:                    |█████████████████████| [100%]   00:03  -> (00:00 left)\n"
     ]
    },
    {
     "name": "stdout",
     "output_type": "stream",
     "text": [
      "Creating Associations graph... DONE!\n"
     ]
    }
   ],
   "source": [
    "target_compare = sv.compare_intra(drive, drive[\"Gender\"] == \"F\", [\"M\",\"F\"], \"target\")\n",
    "target_compare.show_html(\"target_compare.html\")"
   ]
  },
  {
   "cell_type": "markdown",
   "metadata": {},
   "source": [
    "# 5. Pros & Cons\n",
    "\n",
    "<img src=\"https://static.wixstatic.com/media/f71762_ca68d70e00094602be67cd367ea45d14~mv2.png/v1/fill/w_740,h_387,al_c,q_90,usm_0.66_1.00_0.01/f71762_ca68d70e00094602be67cd367ea45d14~mv2.webp\" width=\"80%\"> "
   ]
  },
  {
   "cell_type": "markdown",
   "metadata": {},
   "source": [
    "## 5.1 pros  \n",
    "- category 변수의 correlation 처리에 능함 \n",
    "- 깔금한 시각화 -> single 데이터 뿐만 아니라 같은 columns를 가진 데이터 비교에 용이함 \n",
    "- EDA를 간단히 코드 하나로 해결할 수 있다. \n",
    "    "
   ]
  },
  {
   "cell_type": "markdown",
   "metadata": {},
   "source": [
    "## 5.2 cons\n",
    "\n",
    " - target 변수에 missing value가 존재하면 코드가 돌아가지 않는다."
   ]
  }
 ],
 "metadata": {
  "kernelspec": {
   "display_name": "python3.6.9",
   "language": "python",
   "name": "advice"
  },
  "language_info": {
   "codemirror_mode": {
    "name": "ipython",
    "version": 3
   },
   "file_extension": ".py",
   "mimetype": "text/x-python",
   "name": "python",
   "nbconvert_exporter": "python",
   "pygments_lexer": "ipython3",
   "version": "3.6.9"
  }
 },
 "nbformat": 4,
 "nbformat_minor": 2
}
